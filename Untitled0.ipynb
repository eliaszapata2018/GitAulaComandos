{
  "nbformat": 4,
  "nbformat_minor": 0,
  "metadata": {
    "colab": {
      "provenance": [],
      "authorship_tag": "ABX9TyPUb30uynzIPg2fA59EwNhn",
      "include_colab_link": true
    },
    "kernelspec": {
      "name": "python3",
      "display_name": "Python 3"
    },
    "language_info": {
      "name": "python"
    }
  },
  "cells": [
    {
      "cell_type": "markdown",
      "metadata": {
        "id": "view-in-github",
        "colab_type": "text"
      },
      "source": [
        "<a href=\"https://colab.research.google.com/github/eliaszapata2018/GitAulaComandos/blob/main/Untitled0.ipynb\" target=\"_parent\"><img src=\"https://colab.research.google.com/assets/colab-badge.svg\" alt=\"Open In Colab\"/></a>"
      ]
    },
    {
      "cell_type": "code",
      "execution_count": null,
      "metadata": {
        "colab": {
          "base_uri": "https://localhost:8080/"
        },
        "id": "-rqOYdV_dqa_",
        "outputId": "130774de-34ba-49ca-a5f1-c62c10501431"
      },
      "outputs": [
        {
          "output_type": "stream",
          "name": "stdout",
          "text": [
            "informe um numero: 4\n",
            "O numero informado foi:  4\n"
          ]
        }
      ],
      "source": [
        "numero = input(\"informe um numero: \")\n",
        "print(\"O numero informado foi: \", numero)"
      ]
    },
    {
      "cell_type": "code",
      "source": [
        "n1 = int(input(\"digite um numero: \"))\n",
        "n2 = int(input(\"dijite outro numero: \"))\n",
        "suma = n1 + n2\n",
        "print(\"A suma entre {} e {} é: {}\".format(n1, n2, suma))"
      ],
      "metadata": {
        "colab": {
          "base_uri": "https://localhost:8080/"
        },
        "id": "_ZKXjr-ejD9z",
        "outputId": "2a396073-f3a4-4595-c944-af1431e15b0c"
      },
      "execution_count": null,
      "outputs": [
        {
          "output_type": "stream",
          "name": "stdout",
          "text": [
            "digite um numero: 5\n",
            "dijite outro numero: 5\n",
            "A suma entre 5 e 5 é: 10\n"
          ]
        }
      ]
    },
    {
      "cell_type": "code",
      "source": [
        "altura = float(input(\"digite sua altura: \"))\n",
        "peso_ideal = (72.7 * altura) - 58\n",
        "print(\"Seu peso ideal é: \", peso_ideal)"
      ],
      "metadata": {
        "id": "cYEJRWKimxWk"
      },
      "execution_count": null,
      "outputs": []
    },
    {
      "cell_type": "code",
      "source": [
        "# Comentario em uma linha só\n",
        "\n",
        "'''\n",
        "eu, sou um comentario\n",
        "de varias linhas\n",
        "yujuuuu\n",
        "'''"
      ],
      "metadata": {
        "id": "ZnsH2chmqvSG"
      },
      "execution_count": null,
      "outputs": []
    },
    {
      "cell_type": "code",
      "source": [
        "s = 'fijrj@#$9494   rr'\n",
        "len(s)"
      ],
      "metadata": {
        "colab": {
          "base_uri": "https://localhost:8080/"
        },
        "id": "ZP6AdknIvFOT",
        "outputId": "d9dfe4f5-3297-4017-88f3-82a1b937b575"
      },
      "execution_count": null,
      "outputs": [
        {
          "output_type": "execute_result",
          "data": {
            "text/plain": [
              "17"
            ]
          },
          "metadata": {},
          "execution_count": 20
        }
      ]
    },
    {
      "cell_type": "code",
      "source": [
        "s = 'ou andres'\n",
        "\n",
        "str(2)"
      ],
      "metadata": {
        "colab": {
          "base_uri": "https://localhost:8080/",
          "height": 35
        },
        "id": "CqZoCRJNvqkc",
        "outputId": "9b371384-919b-4555-e4f5-e50416c4cdb3"
      },
      "execution_count": null,
      "outputs": [
        {
          "output_type": "execute_result",
          "data": {
            "text/plain": [
              "'2'"
            ],
            "application/vnd.google.colaboratory.intrinsic+json": {
              "type": "string"
            }
          },
          "metadata": {},
          "execution_count": 25
        }
      ]
    },
    {
      "cell_type": "code",
      "source": [
        "x = 8\n",
        "y = 2\n",
        "IMC = x % y\n",
        "print(IMC)"
      ],
      "metadata": {
        "colab": {
          "base_uri": "https://localhost:8080/"
        },
        "id": "Lj5LUrvklQzz",
        "outputId": "afc86b7b-6b7a-438b-cbdc-90a81383f212"
      },
      "execution_count": null,
      "outputs": [
        {
          "output_type": "stream",
          "name": "stdout",
          "text": [
            "0\n"
          ]
        }
      ]
    }
  ]
}